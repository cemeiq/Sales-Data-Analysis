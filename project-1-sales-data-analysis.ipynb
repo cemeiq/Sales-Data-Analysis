{
 "cells": [
  {
   "cell_type": "markdown",
   "id": "d31c0547",
   "metadata": {
    "papermill": {
     "duration": 0.007222,
     "end_time": "2023-03-06T08:23:00.493609",
     "exception": false,
     "start_time": "2023-03-06T08:23:00.486387",
     "status": "completed"
    },
    "tags": []
   },
   "source": [
    "# Sales Data Analysis\n",
    "\n",
    "In this project, we will analyze and perform EDA on a sales analysis data set."
   ]
  },
  {
   "cell_type": "code",
   "execution_count": 1,
   "id": "948e6e16",
   "metadata": {
    "execution": {
     "iopub.execute_input": "2023-03-06T08:23:00.508187Z",
     "iopub.status.busy": "2023-03-06T08:23:00.507755Z",
     "iopub.status.idle": "2023-03-06T08:23:00.568205Z",
     "shell.execute_reply": "2023-03-06T08:23:00.566699Z"
    },
    "papermill": {
     "duration": 0.072023,
     "end_time": "2023-03-06T08:23:00.571890",
     "exception": false,
     "start_time": "2023-03-06T08:23:00.499867",
     "status": "completed"
    },
    "tags": []
   },
   "outputs": [],
   "source": [
    "# Importing relevant libraries \n",
    "import pandas as pd\n",
    "# import numpy as pd\n",
    "import os\n",
    "import glob\n",
    "import os\n",
    "import numpy as np\n",
    "from learntools.core import binder\n",
    "binder.bind(globals())\n",
    "from learntools.machine_learning.ex7 import *"
   ]
  },
  {
   "cell_type": "code",
   "execution_count": 2,
   "id": "478057ec",
   "metadata": {
    "execution": {
     "iopub.execute_input": "2023-03-06T08:23:00.586092Z",
     "iopub.status.busy": "2023-03-06T08:23:00.585702Z",
     "iopub.status.idle": "2023-03-06T08:23:00.606343Z",
     "shell.execute_reply": "2023-03-06T08:23:00.604968Z"
    },
    "papermill": {
     "duration": 0.031326,
     "end_time": "2023-03-06T08:23:00.609631",
     "exception": false,
     "start_time": "2023-03-06T08:23:00.578305",
     "status": "completed"
    },
    "tags": []
   },
   "outputs": [
    {
     "name": "stdout",
     "output_type": "stream",
     "text": [
      "/kaggle/input/home-data-for-ml-course/sample_submission.csv\n",
      "/kaggle/input/home-data-for-ml-course/sample_submission.csv.gz\n",
      "/kaggle/input/home-data-for-ml-course/train.csv.gz\n",
      "/kaggle/input/home-data-for-ml-course/data_description.txt\n",
      "/kaggle/input/home-data-for-ml-course/test.csv.gz\n",
      "/kaggle/input/home-data-for-ml-course/train.csv\n",
      "/kaggle/input/home-data-for-ml-course/test.csv\n",
      "/kaggle/input/ssales/Sales_August_2019.csv\n",
      "/kaggle/input/ssales/Sales_May_2019.csv\n",
      "/kaggle/input/ssales/Sales_February_2019.csv\n",
      "/kaggle/input/ssales/Sales_November_2019.csv\n",
      "/kaggle/input/ssales/Sales_January_2019.csv\n",
      "/kaggle/input/ssales/Sales_March_2019.csv\n",
      "/kaggle/input/ssales/Sales_September_2019.csv\n",
      "/kaggle/input/ssales/Sales_April_2019.csv\n",
      "/kaggle/input/ssales/Sales_July_2019.csv\n",
      "/kaggle/input/ssales/Sales_October_2019.csv\n",
      "/kaggle/input/ssales/Sales_June_2019.csv\n",
      "/kaggle/input/ssales/Sales_December_2019.csv\n"
     ]
    }
   ],
   "source": [
    "# checking path of csv files\n",
    "\n",
    "import os\n",
    "for dirname, _, filenames in os.walk('/kaggle/input'):\n",
    "    for filename in filenames:\n",
    "        print(os.path.join(dirname, filename))"
   ]
  },
  {
   "cell_type": "code",
   "execution_count": 3,
   "id": "5655c846",
   "metadata": {
    "execution": {
     "iopub.execute_input": "2023-03-06T08:23:00.624564Z",
     "iopub.status.busy": "2023-03-06T08:23:00.624026Z",
     "iopub.status.idle": "2023-03-06T08:23:01.453133Z",
     "shell.execute_reply": "2023-03-06T08:23:01.451834Z"
    },
    "papermill": {
     "duration": 0.840073,
     "end_time": "2023-03-06T08:23:01.456102",
     "exception": false,
     "start_time": "2023-03-06T08:23:00.616029",
     "status": "completed"
    },
    "tags": []
   },
   "outputs": [
    {
     "data": {
      "text/html": [
       "<div>\n",
       "<style scoped>\n",
       "    .dataframe tbody tr th:only-of-type {\n",
       "        vertical-align: middle;\n",
       "    }\n",
       "\n",
       "    .dataframe tbody tr th {\n",
       "        vertical-align: top;\n",
       "    }\n",
       "\n",
       "    .dataframe thead th {\n",
       "        text-align: right;\n",
       "    }\n",
       "</style>\n",
       "<table border=\"1\" class=\"dataframe\">\n",
       "  <thead>\n",
       "    <tr style=\"text-align: right;\">\n",
       "      <th></th>\n",
       "      <th>Order ID</th>\n",
       "      <th>Product</th>\n",
       "      <th>Quantity Ordered</th>\n",
       "      <th>Price Each</th>\n",
       "      <th>Order Date</th>\n",
       "      <th>Purchase Address</th>\n",
       "    </tr>\n",
       "  </thead>\n",
       "  <tbody>\n",
       "    <tr>\n",
       "      <th>0</th>\n",
       "      <td>236670</td>\n",
       "      <td>Wired Headphones</td>\n",
       "      <td>2</td>\n",
       "      <td>11.99</td>\n",
       "      <td>08/31/19 22:21</td>\n",
       "      <td>359 Spruce St, Seattle, WA 98101</td>\n",
       "    </tr>\n",
       "    <tr>\n",
       "      <th>1</th>\n",
       "      <td>236671</td>\n",
       "      <td>Bose SoundSport Headphones</td>\n",
       "      <td>1</td>\n",
       "      <td>99.99</td>\n",
       "      <td>08/15/19 15:11</td>\n",
       "      <td>492 Ridge St, Dallas, TX 75001</td>\n",
       "    </tr>\n",
       "    <tr>\n",
       "      <th>2</th>\n",
       "      <td>236672</td>\n",
       "      <td>iPhone</td>\n",
       "      <td>1</td>\n",
       "      <td>700.0</td>\n",
       "      <td>08/06/19 14:40</td>\n",
       "      <td>149 7th St, Portland, OR 97035</td>\n",
       "    </tr>\n",
       "  </tbody>\n",
       "</table>\n",
       "</div>"
      ],
      "text/plain": [
       "  Order ID                     Product Quantity Ordered Price Each  \\\n",
       "0   236670            Wired Headphones                2      11.99   \n",
       "1   236671  Bose SoundSport Headphones                1      99.99   \n",
       "2   236672                      iPhone                1      700.0   \n",
       "\n",
       "       Order Date                  Purchase Address  \n",
       "0  08/31/19 22:21  359 Spruce St, Seattle, WA 98101  \n",
       "1  08/15/19 15:11    492 Ridge St, Dallas, TX 75001  \n",
       "2  08/06/19 14:40    149 7th St, Portland, OR 97035  "
      ]
     },
     "execution_count": 3,
     "metadata": {},
     "output_type": "execute_result"
    }
   ],
   "source": [
    "# Merging 12 months of sales data into a single file\n",
    "\n",
    "def merge_files(path):\n",
    "    csv_files = glob.glob('/kaggle/input/ssales/*.csv')\n",
    "    lst_dataframes = []\n",
    "    for file in csv_files:\n",
    "        df = pd.read_csv(file)\n",
    "        lst_dataframes.append(df)\n",
    "\n",
    "    combined_df = pd.concat(lst_dataframes, ignore_index=True)    \n",
    "    return combined_df\n",
    "path_to_kaggle = '/kaggle/input/ssales/*.csv'\n",
    "\n",
    "combined_df = merge_files(path_to_kaggle)\n",
    "combined_df.head(3)"
   ]
  },
  {
   "cell_type": "code",
   "execution_count": 4,
   "id": "db42899d",
   "metadata": {
    "execution": {
     "iopub.execute_input": "2023-03-06T08:23:01.471587Z",
     "iopub.status.busy": "2023-03-06T08:23:01.471092Z",
     "iopub.status.idle": "2023-03-06T08:23:01.568197Z",
     "shell.execute_reply": "2023-03-06T08:23:01.566728Z"
    },
    "papermill": {
     "duration": 0.108653,
     "end_time": "2023-03-06T08:23:01.571349",
     "exception": false,
     "start_time": "2023-03-06T08:23:01.462696",
     "status": "completed"
    },
    "tags": []
   },
   "outputs": [
    {
     "data": {
      "text/html": [
       "<div>\n",
       "<style scoped>\n",
       "    .dataframe tbody tr th:only-of-type {\n",
       "        vertical-align: middle;\n",
       "    }\n",
       "\n",
       "    .dataframe tbody tr th {\n",
       "        vertical-align: top;\n",
       "    }\n",
       "\n",
       "    .dataframe thead th {\n",
       "        text-align: right;\n",
       "    }\n",
       "</style>\n",
       "<table border=\"1\" class=\"dataframe\">\n",
       "  <thead>\n",
       "    <tr style=\"text-align: right;\">\n",
       "      <th></th>\n",
       "      <th>Order ID</th>\n",
       "      <th>Product</th>\n",
       "      <th>Quantity Ordered</th>\n",
       "      <th>Price Each</th>\n",
       "      <th>Order Date</th>\n",
       "      <th>Purchase Address</th>\n",
       "      <th>Month</th>\n",
       "    </tr>\n",
       "  </thead>\n",
       "  <tbody>\n",
       "    <tr>\n",
       "      <th>0</th>\n",
       "      <td>236670</td>\n",
       "      <td>Wired Headphones</td>\n",
       "      <td>2</td>\n",
       "      <td>11.99</td>\n",
       "      <td>08/31/19 22:21</td>\n",
       "      <td>359 Spruce St, Seattle, WA 98101</td>\n",
       "      <td>08</td>\n",
       "    </tr>\n",
       "    <tr>\n",
       "      <th>1</th>\n",
       "      <td>236671</td>\n",
       "      <td>Bose SoundSport Headphones</td>\n",
       "      <td>1</td>\n",
       "      <td>99.99</td>\n",
       "      <td>08/15/19 15:11</td>\n",
       "      <td>492 Ridge St, Dallas, TX 75001</td>\n",
       "      <td>08</td>\n",
       "    </tr>\n",
       "    <tr>\n",
       "      <th>2</th>\n",
       "      <td>236672</td>\n",
       "      <td>iPhone</td>\n",
       "      <td>1</td>\n",
       "      <td>700.0</td>\n",
       "      <td>08/06/19 14:40</td>\n",
       "      <td>149 7th St, Portland, OR 97035</td>\n",
       "      <td>08</td>\n",
       "    </tr>\n",
       "    <tr>\n",
       "      <th>3</th>\n",
       "      <td>236673</td>\n",
       "      <td>AA Batteries (4-pack)</td>\n",
       "      <td>2</td>\n",
       "      <td>3.84</td>\n",
       "      <td>08/29/19 20:59</td>\n",
       "      <td>631 2nd St, Los Angeles, CA 90001</td>\n",
       "      <td>08</td>\n",
       "    </tr>\n",
       "    <tr>\n",
       "      <th>4</th>\n",
       "      <td>236674</td>\n",
       "      <td>AA Batteries (4-pack)</td>\n",
       "      <td>2</td>\n",
       "      <td>3.84</td>\n",
       "      <td>08/15/19 19:53</td>\n",
       "      <td>736 14th St, New York City, NY 10001</td>\n",
       "      <td>08</td>\n",
       "    </tr>\n",
       "  </tbody>\n",
       "</table>\n",
       "</div>"
      ],
      "text/plain": [
       "  Order ID                     Product Quantity Ordered Price Each  \\\n",
       "0   236670            Wired Headphones                2      11.99   \n",
       "1   236671  Bose SoundSport Headphones                1      99.99   \n",
       "2   236672                      iPhone                1      700.0   \n",
       "3   236673       AA Batteries (4-pack)                2       3.84   \n",
       "4   236674       AA Batteries (4-pack)                2       3.84   \n",
       "\n",
       "       Order Date                      Purchase Address Month  \n",
       "0  08/31/19 22:21      359 Spruce St, Seattle, WA 98101    08  \n",
       "1  08/15/19 15:11        492 Ridge St, Dallas, TX 75001    08  \n",
       "2  08/06/19 14:40        149 7th St, Portland, OR 97035    08  \n",
       "3  08/29/19 20:59     631 2nd St, Los Angeles, CA 90001    08  \n",
       "4  08/15/19 19:53  736 14th St, New York City, NY 10001    08  "
      ]
     },
     "execution_count": 4,
     "metadata": {},
     "output_type": "execute_result"
    }
   ],
   "source": [
    "# extracting month from the date column and adding month column\n",
    "combined_df['Month'] = combined_df['Order Date'].str[:2]\n",
    "# combined_df['Month'] = pd.to_datetime(combined_df['Month']).dt.month\n",
    "combined_df.head()\n",
    "# combined_df['Month'] = pd.to_datetime(combined_df['Order Date']).dt.month\n",
    "# combined_df['Month'].tail(4)"
   ]
  },
  {
   "cell_type": "code",
   "execution_count": 5,
   "id": "79b5ec4c",
   "metadata": {
    "execution": {
     "iopub.execute_input": "2023-03-06T08:23:01.586646Z",
     "iopub.status.busy": "2023-03-06T08:23:01.586187Z",
     "iopub.status.idle": "2023-03-06T08:23:01.841690Z",
     "shell.execute_reply": "2023-03-06T08:23:01.840271Z"
    },
    "papermill": {
     "duration": 0.266425,
     "end_time": "2023-03-06T08:23:01.844505",
     "exception": false,
     "start_time": "2023-03-06T08:23:01.578080",
     "status": "completed"
    },
    "tags": []
   },
   "outputs": [
    {
     "data": {
      "text/html": [
       "<div>\n",
       "<style scoped>\n",
       "    .dataframe tbody tr th:only-of-type {\n",
       "        vertical-align: middle;\n",
       "    }\n",
       "\n",
       "    .dataframe tbody tr th {\n",
       "        vertical-align: top;\n",
       "    }\n",
       "\n",
       "    .dataframe thead th {\n",
       "        text-align: right;\n",
       "    }\n",
       "</style>\n",
       "<table border=\"1\" class=\"dataframe\">\n",
       "  <thead>\n",
       "    <tr style=\"text-align: right;\">\n",
       "      <th></th>\n",
       "      <th>Order ID</th>\n",
       "      <th>Product</th>\n",
       "      <th>Quantity Ordered</th>\n",
       "      <th>Price Each</th>\n",
       "      <th>Order Date</th>\n",
       "      <th>Purchase Address</th>\n",
       "      <th>Month</th>\n",
       "    </tr>\n",
       "  </thead>\n",
       "  <tbody>\n",
       "    <tr>\n",
       "      <th>312</th>\n",
       "      <td>NaN</td>\n",
       "      <td>NaN</td>\n",
       "      <td>NaN</td>\n",
       "      <td>NaN</td>\n",
       "      <td>NaN</td>\n",
       "      <td>NaN</td>\n",
       "      <td>NaN</td>\n",
       "    </tr>\n",
       "    <tr>\n",
       "      <th>1222</th>\n",
       "      <td>NaN</td>\n",
       "      <td>NaN</td>\n",
       "      <td>NaN</td>\n",
       "      <td>NaN</td>\n",
       "      <td>NaN</td>\n",
       "      <td>NaN</td>\n",
       "      <td>NaN</td>\n",
       "    </tr>\n",
       "    <tr>\n",
       "      <th>2648</th>\n",
       "      <td>NaN</td>\n",
       "      <td>NaN</td>\n",
       "      <td>NaN</td>\n",
       "      <td>NaN</td>\n",
       "      <td>NaN</td>\n",
       "      <td>NaN</td>\n",
       "      <td>NaN</td>\n",
       "    </tr>\n",
       "    <tr>\n",
       "      <th>2685</th>\n",
       "      <td>NaN</td>\n",
       "      <td>NaN</td>\n",
       "      <td>NaN</td>\n",
       "      <td>NaN</td>\n",
       "      <td>NaN</td>\n",
       "      <td>NaN</td>\n",
       "      <td>NaN</td>\n",
       "    </tr>\n",
       "    <tr>\n",
       "      <th>3119</th>\n",
       "      <td>NaN</td>\n",
       "      <td>NaN</td>\n",
       "      <td>NaN</td>\n",
       "      <td>NaN</td>\n",
       "      <td>NaN</td>\n",
       "      <td>NaN</td>\n",
       "      <td>NaN</td>\n",
       "    </tr>\n",
       "  </tbody>\n",
       "</table>\n",
       "</div>"
      ],
      "text/plain": [
       "     Order ID Product Quantity Ordered Price Each Order Date Purchase Address  \\\n",
       "312       NaN     NaN              NaN        NaN        NaN              NaN   \n",
       "1222      NaN     NaN              NaN        NaN        NaN              NaN   \n",
       "2648      NaN     NaN              NaN        NaN        NaN              NaN   \n",
       "2685      NaN     NaN              NaN        NaN        NaN              NaN   \n",
       "3119      NaN     NaN              NaN        NaN        NaN              NaN   \n",
       "\n",
       "     Month  \n",
       "312    NaN  \n",
       "1222   NaN  \n",
       "2648   NaN  \n",
       "2685   NaN  \n",
       "3119   NaN  "
      ]
     },
     "metadata": {},
     "output_type": "display_data"
    },
    {
     "data": {
      "text/html": [
       "<div>\n",
       "<style scoped>\n",
       "    .dataframe tbody tr th:only-of-type {\n",
       "        vertical-align: middle;\n",
       "    }\n",
       "\n",
       "    .dataframe tbody tr th {\n",
       "        vertical-align: top;\n",
       "    }\n",
       "\n",
       "    .dataframe thead th {\n",
       "        text-align: right;\n",
       "    }\n",
       "</style>\n",
       "<table border=\"1\" class=\"dataframe\">\n",
       "  <thead>\n",
       "    <tr style=\"text-align: right;\">\n",
       "      <th></th>\n",
       "      <th>Order ID</th>\n",
       "      <th>Product</th>\n",
       "      <th>Quantity Ordered</th>\n",
       "      <th>Price Each</th>\n",
       "      <th>Order Date</th>\n",
       "      <th>Purchase Address</th>\n",
       "      <th>Month</th>\n",
       "    </tr>\n",
       "  </thead>\n",
       "  <tbody>\n",
       "    <tr>\n",
       "      <th>0</th>\n",
       "      <td>236670</td>\n",
       "      <td>Wired Headphones</td>\n",
       "      <td>2</td>\n",
       "      <td>11.99</td>\n",
       "      <td>08/31/19 22:21</td>\n",
       "      <td>359 Spruce St, Seattle, WA 98101</td>\n",
       "      <td>08</td>\n",
       "    </tr>\n",
       "    <tr>\n",
       "      <th>1</th>\n",
       "      <td>236671</td>\n",
       "      <td>Bose SoundSport Headphones</td>\n",
       "      <td>1</td>\n",
       "      <td>99.99</td>\n",
       "      <td>08/15/19 15:11</td>\n",
       "      <td>492 Ridge St, Dallas, TX 75001</td>\n",
       "      <td>08</td>\n",
       "    </tr>\n",
       "    <tr>\n",
       "      <th>2</th>\n",
       "      <td>236672</td>\n",
       "      <td>iPhone</td>\n",
       "      <td>1</td>\n",
       "      <td>700.0</td>\n",
       "      <td>08/06/19 14:40</td>\n",
       "      <td>149 7th St, Portland, OR 97035</td>\n",
       "      <td>08</td>\n",
       "    </tr>\n",
       "    <tr>\n",
       "      <th>3</th>\n",
       "      <td>236673</td>\n",
       "      <td>AA Batteries (4-pack)</td>\n",
       "      <td>2</td>\n",
       "      <td>3.84</td>\n",
       "      <td>08/29/19 20:59</td>\n",
       "      <td>631 2nd St, Los Angeles, CA 90001</td>\n",
       "      <td>08</td>\n",
       "    </tr>\n",
       "    <tr>\n",
       "      <th>4</th>\n",
       "      <td>236674</td>\n",
       "      <td>AA Batteries (4-pack)</td>\n",
       "      <td>2</td>\n",
       "      <td>3.84</td>\n",
       "      <td>08/15/19 19:53</td>\n",
       "      <td>736 14th St, New York City, NY 10001</td>\n",
       "      <td>08</td>\n",
       "    </tr>\n",
       "  </tbody>\n",
       "</table>\n",
       "</div>"
      ],
      "text/plain": [
       "  Order ID                     Product Quantity Ordered Price Each  \\\n",
       "0   236670            Wired Headphones                2      11.99   \n",
       "1   236671  Bose SoundSport Headphones                1      99.99   \n",
       "2   236672                      iPhone                1      700.0   \n",
       "3   236673       AA Batteries (4-pack)                2       3.84   \n",
       "4   236674       AA Batteries (4-pack)                2       3.84   \n",
       "\n",
       "       Order Date                      Purchase Address Month  \n",
       "0  08/31/19 22:21      359 Spruce St, Seattle, WA 98101    08  \n",
       "1  08/15/19 15:11        492 Ridge St, Dallas, TX 75001    08  \n",
       "2  08/06/19 14:40        149 7th St, Portland, OR 97035    08  \n",
       "3  08/29/19 20:59     631 2nd St, Los Angeles, CA 90001    08  \n",
       "4  08/15/19 19:53  736 14th St, New York City, NY 10001    08  "
      ]
     },
     "execution_count": 5,
     "metadata": {},
     "output_type": "execute_result"
    }
   ],
   "source": [
    "# Drop rows of NAN\n",
    "nan_df = combined_df[combined_df.isna().any(axis=1)]\n",
    "display(nan_df.head())\n",
    "\n",
    "combined_df = combined_df.dropna(how='all')\n",
    "combined_df.head()"
   ]
  },
  {
   "cell_type": "markdown",
   "id": "8163d8e6",
   "metadata": {
    "papermill": {
     "duration": 0.00694,
     "end_time": "2023-03-06T08:23:01.859337",
     "exception": false,
     "start_time": "2023-03-06T08:23:01.852397",
     "status": "completed"
    },
    "tags": []
   },
   "source": [
    "Here's some of the code you've written so far. Start by running it again."
   ]
  },
  {
   "cell_type": "code",
   "execution_count": 6,
   "id": "f1b3eee5",
   "metadata": {
    "execution": {
     "iopub.execute_input": "2023-03-06T08:23:01.876842Z",
     "iopub.status.busy": "2023-03-06T08:23:01.876395Z",
     "iopub.status.idle": "2023-03-06T08:23:01.881661Z",
     "shell.execute_reply": "2023-03-06T08:23:01.880371Z"
    },
    "papermill": {
     "duration": 0.017461,
     "end_time": "2023-03-06T08:23:01.884445",
     "exception": false,
     "start_time": "2023-03-06T08:23:01.866984",
     "status": "completed"
    },
    "tags": []
   },
   "outputs": [],
   "source": [
    "# How much money was earned that month and what was the best sales@\n",
    "\n",
    "# extracting month from the date column and adding month column\n",
    "# combined_df['date'] = \n",
    "\n"
   ]
  },
  {
   "cell_type": "code",
   "execution_count": 7,
   "id": "fc93e21c",
   "metadata": {
    "execution": {
     "iopub.execute_input": "2023-03-06T08:23:01.900844Z",
     "iopub.status.busy": "2023-03-06T08:23:01.900380Z",
     "iopub.status.idle": "2023-03-06T08:23:02.025180Z",
     "shell.execute_reply": "2023-03-06T08:23:02.023830Z"
    },
    "papermill": {
     "duration": 0.136341,
     "end_time": "2023-03-06T08:23:02.027953",
     "exception": false,
     "start_time": "2023-03-06T08:23:01.891612",
     "status": "completed"
    },
    "tags": []
   },
   "outputs": [
    {
     "data": {
      "text/html": [
       "<div>\n",
       "<style scoped>\n",
       "    .dataframe tbody tr th:only-of-type {\n",
       "        vertical-align: middle;\n",
       "    }\n",
       "\n",
       "    .dataframe tbody tr th {\n",
       "        vertical-align: top;\n",
       "    }\n",
       "\n",
       "    .dataframe thead th {\n",
       "        text-align: right;\n",
       "    }\n",
       "</style>\n",
       "<table border=\"1\" class=\"dataframe\">\n",
       "  <thead>\n",
       "    <tr style=\"text-align: right;\">\n",
       "      <th></th>\n",
       "      <th>Order ID</th>\n",
       "      <th>Product</th>\n",
       "      <th>Quantity Ordered</th>\n",
       "      <th>Price Each</th>\n",
       "      <th>Order Date</th>\n",
       "      <th>Purchase Address</th>\n",
       "      <th>Month</th>\n",
       "    </tr>\n",
       "  </thead>\n",
       "  <tbody>\n",
       "    <tr>\n",
       "      <th>0</th>\n",
       "      <td>236670</td>\n",
       "      <td>Wired Headphones</td>\n",
       "      <td>2</td>\n",
       "      <td>11.99</td>\n",
       "      <td>08/31/19 22:21</td>\n",
       "      <td>359 Spruce St, Seattle, WA 98101</td>\n",
       "      <td>08</td>\n",
       "    </tr>\n",
       "    <tr>\n",
       "      <th>1</th>\n",
       "      <td>236671</td>\n",
       "      <td>Bose SoundSport Headphones</td>\n",
       "      <td>1</td>\n",
       "      <td>99.99</td>\n",
       "      <td>08/15/19 15:11</td>\n",
       "      <td>492 Ridge St, Dallas, TX 75001</td>\n",
       "      <td>08</td>\n",
       "    </tr>\n",
       "    <tr>\n",
       "      <th>2</th>\n",
       "      <td>236672</td>\n",
       "      <td>iPhone</td>\n",
       "      <td>1</td>\n",
       "      <td>700.0</td>\n",
       "      <td>08/06/19 14:40</td>\n",
       "      <td>149 7th St, Portland, OR 97035</td>\n",
       "      <td>08</td>\n",
       "    </tr>\n",
       "  </tbody>\n",
       "</table>\n",
       "</div>"
      ],
      "text/plain": [
       "  Order ID                     Product Quantity Ordered Price Each  \\\n",
       "0   236670            Wired Headphones                2      11.99   \n",
       "1   236671  Bose SoundSport Headphones                1      99.99   \n",
       "2   236672                      iPhone                1      700.0   \n",
       "\n",
       "       Order Date                  Purchase Address Month  \n",
       "0  08/31/19 22:21  359 Spruce St, Seattle, WA 98101    08  \n",
       "1  08/15/19 15:11    492 Ridge St, Dallas, TX 75001    08  \n",
       "2  08/06/19 14:40    149 7th St, Portland, OR 97035    08  "
      ]
     },
     "execution_count": 7,
     "metadata": {},
     "output_type": "execute_result"
    }
   ],
   "source": [
    "combined_df = combined_df[combined_df['Order Date'].str[0:2]!='Or']\n",
    "combined_df.head(3)"
   ]
  },
  {
   "cell_type": "code",
   "execution_count": 8,
   "id": "7175b8ce",
   "metadata": {
    "execution": {
     "iopub.execute_input": "2023-03-06T08:23:02.044855Z",
     "iopub.status.busy": "2023-03-06T08:23:02.044406Z",
     "iopub.status.idle": "2023-03-06T08:23:02.148675Z",
     "shell.execute_reply": "2023-03-06T08:23:02.147261Z"
    },
    "papermill": {
     "duration": 0.116308,
     "end_time": "2023-03-06T08:23:02.151606",
     "exception": false,
     "start_time": "2023-03-06T08:23:02.035298",
     "status": "completed"
    },
    "tags": []
   },
   "outputs": [
    {
     "data": {
      "text/html": [
       "<div>\n",
       "<style scoped>\n",
       "    .dataframe tbody tr th:only-of-type {\n",
       "        vertical-align: middle;\n",
       "    }\n",
       "\n",
       "    .dataframe tbody tr th {\n",
       "        vertical-align: top;\n",
       "    }\n",
       "\n",
       "    .dataframe thead th {\n",
       "        text-align: right;\n",
       "    }\n",
       "</style>\n",
       "<table border=\"1\" class=\"dataframe\">\n",
       "  <thead>\n",
       "    <tr style=\"text-align: right;\">\n",
       "      <th></th>\n",
       "      <th>Order ID</th>\n",
       "      <th>Product</th>\n",
       "      <th>Quantity Ordered</th>\n",
       "      <th>Price Each</th>\n",
       "      <th>Order Date</th>\n",
       "      <th>Purchase Address</th>\n",
       "      <th>Month</th>\n",
       "    </tr>\n",
       "  </thead>\n",
       "  <tbody>\n",
       "    <tr>\n",
       "      <th>0</th>\n",
       "      <td>236670</td>\n",
       "      <td>Wired Headphones</td>\n",
       "      <td>2</td>\n",
       "      <td>11.99</td>\n",
       "      <td>08/31/19 22:21</td>\n",
       "      <td>359 Spruce St, Seattle, WA 98101</td>\n",
       "      <td>08</td>\n",
       "    </tr>\n",
       "    <tr>\n",
       "      <th>1</th>\n",
       "      <td>236671</td>\n",
       "      <td>Bose SoundSport Headphones</td>\n",
       "      <td>1</td>\n",
       "      <td>99.99</td>\n",
       "      <td>08/15/19 15:11</td>\n",
       "      <td>492 Ridge St, Dallas, TX 75001</td>\n",
       "      <td>08</td>\n",
       "    </tr>\n",
       "    <tr>\n",
       "      <th>2</th>\n",
       "      <td>236672</td>\n",
       "      <td>iPhone</td>\n",
       "      <td>1</td>\n",
       "      <td>700.00</td>\n",
       "      <td>08/06/19 14:40</td>\n",
       "      <td>149 7th St, Portland, OR 97035</td>\n",
       "      <td>08</td>\n",
       "    </tr>\n",
       "  </tbody>\n",
       "</table>\n",
       "</div>"
      ],
      "text/plain": [
       "  Order ID                     Product  Quantity Ordered  Price Each  \\\n",
       "0   236670            Wired Headphones                 2       11.99   \n",
       "1   236671  Bose SoundSport Headphones                 1       99.99   \n",
       "2   236672                      iPhone                 1      700.00   \n",
       "\n",
       "       Order Date                  Purchase Address Month  \n",
       "0  08/31/19 22:21  359 Spruce St, Seattle, WA 98101    08  \n",
       "1  08/15/19 15:11    492 Ridge St, Dallas, TX 75001    08  \n",
       "2  08/06/19 14:40    149 7th St, Portland, OR 97035    08  "
      ]
     },
     "execution_count": 8,
     "metadata": {},
     "output_type": "execute_result"
    }
   ],
   "source": [
    "# correct columns to the correct type\n",
    "\n",
    "combined_df['Quantity Ordered'] = combined_df['Quantity Ordered'].astype(int)# int\n",
    "combined_df['Price Each'] = combined_df['Price Each'].astype(float) # Float\n",
    "combined_df.head(3)"
   ]
  },
  {
   "cell_type": "code",
   "execution_count": 9,
   "id": "8ff68581",
   "metadata": {
    "execution": {
     "iopub.execute_input": "2023-03-06T08:23:02.169355Z",
     "iopub.status.busy": "2023-03-06T08:23:02.168100Z",
     "iopub.status.idle": "2023-03-06T08:23:02.255237Z",
     "shell.execute_reply": "2023-03-06T08:23:02.253913Z"
    },
    "papermill": {
     "duration": 0.099001,
     "end_time": "2023-03-06T08:23:02.258139",
     "exception": false,
     "start_time": "2023-03-06T08:23:02.159138",
     "status": "completed"
    },
    "tags": []
   },
   "outputs": [
    {
     "data": {
      "text/html": [
       "<div>\n",
       "<style scoped>\n",
       "    .dataframe tbody tr th:only-of-type {\n",
       "        vertical-align: middle;\n",
       "    }\n",
       "\n",
       "    .dataframe tbody tr th {\n",
       "        vertical-align: top;\n",
       "    }\n",
       "\n",
       "    .dataframe thead th {\n",
       "        text-align: right;\n",
       "    }\n",
       "</style>\n",
       "<table border=\"1\" class=\"dataframe\">\n",
       "  <thead>\n",
       "    <tr style=\"text-align: right;\">\n",
       "      <th></th>\n",
       "      <th>Quantity Ordered</th>\n",
       "      <th>Price Each</th>\n",
       "      <th>sales</th>\n",
       "    </tr>\n",
       "    <tr>\n",
       "      <th>Month</th>\n",
       "      <th></th>\n",
       "      <th></th>\n",
       "      <th></th>\n",
       "    </tr>\n",
       "  </thead>\n",
       "  <tbody>\n",
       "    <tr>\n",
       "      <th>01</th>\n",
       "      <td>10903</td>\n",
       "      <td>1811768.38</td>\n",
       "      <td>1822256.73</td>\n",
       "    </tr>\n",
       "    <tr>\n",
       "      <th>02</th>\n",
       "      <td>13449</td>\n",
       "      <td>2188884.72</td>\n",
       "      <td>2202022.42</td>\n",
       "    </tr>\n",
       "    <tr>\n",
       "      <th>03</th>\n",
       "      <td>17005</td>\n",
       "      <td>2791207.83</td>\n",
       "      <td>2807100.38</td>\n",
       "    </tr>\n",
       "    <tr>\n",
       "      <th>04</th>\n",
       "      <td>20558</td>\n",
       "      <td>3367671.02</td>\n",
       "      <td>3390670.24</td>\n",
       "    </tr>\n",
       "    <tr>\n",
       "      <th>05</th>\n",
       "      <td>18667</td>\n",
       "      <td>3135125.13</td>\n",
       "      <td>3152606.75</td>\n",
       "    </tr>\n",
       "    <tr>\n",
       "      <th>06</th>\n",
       "      <td>15253</td>\n",
       "      <td>2562025.61</td>\n",
       "      <td>2577802.26</td>\n",
       "    </tr>\n",
       "    <tr>\n",
       "      <th>07</th>\n",
       "      <td>16072</td>\n",
       "      <td>2632539.56</td>\n",
       "      <td>2647775.76</td>\n",
       "    </tr>\n",
       "    <tr>\n",
       "      <th>08</th>\n",
       "      <td>13448</td>\n",
       "      <td>2230345.42</td>\n",
       "      <td>2244467.88</td>\n",
       "    </tr>\n",
       "    <tr>\n",
       "      <th>09</th>\n",
       "      <td>13109</td>\n",
       "      <td>2084992.09</td>\n",
       "      <td>2097560.13</td>\n",
       "    </tr>\n",
       "    <tr>\n",
       "      <th>10</th>\n",
       "      <td>22703</td>\n",
       "      <td>3715554.83</td>\n",
       "      <td>3736726.88</td>\n",
       "    </tr>\n",
       "    <tr>\n",
       "      <th>11</th>\n",
       "      <td>19798</td>\n",
       "      <td>3180600.68</td>\n",
       "      <td>3199603.20</td>\n",
       "    </tr>\n",
       "    <tr>\n",
       "      <th>12</th>\n",
       "      <td>28114</td>\n",
       "      <td>4588415.41</td>\n",
       "      <td>4613443.34</td>\n",
       "    </tr>\n",
       "  </tbody>\n",
       "</table>\n",
       "</div>"
      ],
      "text/plain": [
       "       Quantity Ordered  Price Each       sales\n",
       "Month                                          \n",
       "01                10903  1811768.38  1822256.73\n",
       "02                13449  2188884.72  2202022.42\n",
       "03                17005  2791207.83  2807100.38\n",
       "04                20558  3367671.02  3390670.24\n",
       "05                18667  3135125.13  3152606.75\n",
       "06                15253  2562025.61  2577802.26\n",
       "07                16072  2632539.56  2647775.76\n",
       "08                13448  2230345.42  2244467.88\n",
       "09                13109  2084992.09  2097560.13\n",
       "10                22703  3715554.83  3736726.88\n",
       "11                19798  3180600.68  3199603.20\n",
       "12                28114  4588415.41  4613443.34"
      ]
     },
     "execution_count": 9,
     "metadata": {},
     "output_type": "execute_result"
    }
   ],
   "source": [
    "# Add a sales column\n",
    "\n",
    "combined_df['sales'] = combined_df['Quantity Ordered']*combined_df['Price Each']\n",
    "\n",
    "# best sales value and month for sales\n",
    "max_sales = max(combined_df['sales'])\n",
    "combined_df.groupby('Month').sum()\n",
    "\n",
    "# 12 month is the best sales month"
   ]
  },
  {
   "cell_type": "code",
   "execution_count": 10,
   "id": "1faa4458",
   "metadata": {
    "execution": {
     "iopub.execute_input": "2023-03-06T08:23:02.276879Z",
     "iopub.status.busy": "2023-03-06T08:23:02.276447Z",
     "iopub.status.idle": "2023-03-06T08:23:02.590015Z",
     "shell.execute_reply": "2023-03-06T08:23:02.589056Z"
    },
    "papermill": {
     "duration": 0.326681,
     "end_time": "2023-03-06T08:23:02.592555",
     "exception": false,
     "start_time": "2023-03-06T08:23:02.265874",
     "status": "completed"
    },
    "tags": []
   },
   "outputs": [
    {
     "name": "stdout",
     "output_type": "stream",
     "text": [
      "range(1, 13)\n"
     ]
    },
    {
     "data": {
      "image/png": "[encoded data removed]",
      "text/plain": [
       "<Figure size 640x480 with 1 Axes>"
      ]
     },
     "metadata": {},
     "output_type": "display_data"
    }
   ],
   "source": [
    "import matplotlib.pyplot as plt\n",
    "\n",
    "months = range(1,13)\n",
    "print(months)\n",
    "\n",
    "plt.bar(months,combined_df.groupby(['Month']).sum()['sales'])\n",
    "plt.xticks(months)\n",
    "plt.ylabel('Sales in USD ($)')\n",
    "plt.xlabel('Month number')\n",
    "plt.show()"
   ]
  },
  {
   "cell_type": "code",
   "execution_count": 11,
   "id": "d850bb3d",
   "metadata": {
    "execution": {
     "iopub.execute_input": "2023-03-06T08:23:02.612488Z",
     "iopub.status.busy": "2023-03-06T08:23:02.611926Z",
     "iopub.status.idle": "2023-03-06T08:23:02.630339Z",
     "shell.execute_reply": "2023-03-06T08:23:02.628179Z"
    },
    "papermill": {
     "duration": 0.031694,
     "end_time": "2023-03-06T08:23:02.633504",
     "exception": false,
     "start_time": "2023-03-06T08:23:02.601810",
     "status": "completed"
    },
    "tags": []
   },
   "outputs": [
    {
     "data": {
      "text/html": [
       "<div>\n",
       "<style scoped>\n",
       "    .dataframe tbody tr th:only-of-type {\n",
       "        vertical-align: middle;\n",
       "    }\n",
       "\n",
       "    .dataframe tbody tr th {\n",
       "        vertical-align: top;\n",
       "    }\n",
       "\n",
       "    .dataframe thead th {\n",
       "        text-align: right;\n",
       "    }\n",
       "</style>\n",
       "<table border=\"1\" class=\"dataframe\">\n",
       "  <thead>\n",
       "    <tr style=\"text-align: right;\">\n",
       "      <th></th>\n",
       "      <th>Order ID</th>\n",
       "      <th>Product</th>\n",
       "      <th>Quantity Ordered</th>\n",
       "      <th>Price Each</th>\n",
       "      <th>Order Date</th>\n",
       "      <th>Purchase Address</th>\n",
       "      <th>Month</th>\n",
       "      <th>sales</th>\n",
       "    </tr>\n",
       "  </thead>\n",
       "  <tbody>\n",
       "    <tr>\n",
       "      <th>0</th>\n",
       "      <td>236670</td>\n",
       "      <td>Wired Headphones</td>\n",
       "      <td>2</td>\n",
       "      <td>11.99</td>\n",
       "      <td>08/31/19 22:21</td>\n",
       "      <td>359 Spruce St, Seattle, WA 98101</td>\n",
       "      <td>08</td>\n",
       "      <td>23.98</td>\n",
       "    </tr>\n",
       "    <tr>\n",
       "      <th>1</th>\n",
       "      <td>236671</td>\n",
       "      <td>Bose SoundSport Headphones</td>\n",
       "      <td>1</td>\n",
       "      <td>99.99</td>\n",
       "      <td>08/15/19 15:11</td>\n",
       "      <td>492 Ridge St, Dallas, TX 75001</td>\n",
       "      <td>08</td>\n",
       "      <td>99.99</td>\n",
       "    </tr>\n",
       "    <tr>\n",
       "      <th>2</th>\n",
       "      <td>236672</td>\n",
       "      <td>iPhone</td>\n",
       "      <td>1</td>\n",
       "      <td>700.00</td>\n",
       "      <td>08/06/19 14:40</td>\n",
       "      <td>149 7th St, Portland, OR 97035</td>\n",
       "      <td>08</td>\n",
       "      <td>700.00</td>\n",
       "    </tr>\n",
       "    <tr>\n",
       "      <th>3</th>\n",
       "      <td>236673</td>\n",
       "      <td>AA Batteries (4-pack)</td>\n",
       "      <td>2</td>\n",
       "      <td>3.84</td>\n",
       "      <td>08/29/19 20:59</td>\n",
       "      <td>631 2nd St, Los Angeles, CA 90001</td>\n",
       "      <td>08</td>\n",
       "      <td>7.68</td>\n",
       "    </tr>\n",
       "  </tbody>\n",
       "</table>\n",
       "</div>"
      ],
      "text/plain": [
       "  Order ID                     Product  Quantity Ordered  Price Each  \\\n",
       "0   236670            Wired Headphones                 2       11.99   \n",
       "1   236671  Bose SoundSport Headphones                 1       99.99   \n",
       "2   236672                      iPhone                 1      700.00   \n",
       "3   236673       AA Batteries (4-pack)                 2        3.84   \n",
       "\n",
       "       Order Date                   Purchase Address Month   sales  \n",
       "0  08/31/19 22:21   359 Spruce St, Seattle, WA 98101    08   23.98  \n",
       "1  08/15/19 15:11     492 Ridge St, Dallas, TX 75001    08   99.99  \n",
       "2  08/06/19 14:40     149 7th St, Portland, OR 97035    08  700.00  \n",
       "3  08/29/19 20:59  631 2nd St, Los Angeles, CA 90001    08    7.68  "
      ]
     },
     "execution_count": 11,
     "metadata": {},
     "output_type": "execute_result"
    }
   ],
   "source": [
    "combined_df.head(4)"
   ]
  },
  {
   "cell_type": "code",
   "execution_count": 12,
   "id": "ab4424f3",
   "metadata": {
    "execution": {
     "iopub.execute_input": "2023-03-06T08:23:02.653035Z",
     "iopub.status.busy": "2023-03-06T08:23:02.652541Z",
     "iopub.status.idle": "2023-03-06T08:23:03.266274Z",
     "shell.execute_reply": "2023-03-06T08:23:03.264453Z"
    },
    "papermill": {
     "duration": 0.627049,
     "end_time": "2023-03-06T08:23:03.269385",
     "exception": false,
     "start_time": "2023-03-06T08:23:02.642336",
     "status": "completed"
    },
    "tags": []
   },
   "outputs": [
    {
     "data": {
      "text/html": [
       "<div>\n",
       "<style scoped>\n",
       "    .dataframe tbody tr th:only-of-type {\n",
       "        vertical-align: middle;\n",
       "    }\n",
       "\n",
       "    .dataframe tbody tr th {\n",
       "        vertical-align: top;\n",
       "    }\n",
       "\n",
       "    .dataframe thead th {\n",
       "        text-align: right;\n",
       "    }\n",
       "</style>\n",
       "<table border=\"1\" class=\"dataframe\">\n",
       "  <thead>\n",
       "    <tr style=\"text-align: right;\">\n",
       "      <th></th>\n",
       "      <th>Order ID</th>\n",
       "      <th>Product</th>\n",
       "      <th>Quantity Ordered</th>\n",
       "      <th>Price Each</th>\n",
       "      <th>Order Date</th>\n",
       "      <th>Purchase Address</th>\n",
       "      <th>Month</th>\n",
       "      <th>sales</th>\n",
       "      <th>city</th>\n",
       "    </tr>\n",
       "  </thead>\n",
       "  <tbody>\n",
       "    <tr>\n",
       "      <th>0</th>\n",
       "      <td>236670</td>\n",
       "      <td>Wired Headphones</td>\n",
       "      <td>2</td>\n",
       "      <td>11.99</td>\n",
       "      <td>08/31/19 22:21</td>\n",
       "      <td>359 Spruce St, Seattle, WA 98101</td>\n",
       "      <td>08</td>\n",
       "      <td>23.98</td>\n",
       "      <td>Seattle</td>\n",
       "    </tr>\n",
       "    <tr>\n",
       "      <th>1</th>\n",
       "      <td>236671</td>\n",
       "      <td>Bose SoundSport Headphones</td>\n",
       "      <td>1</td>\n",
       "      <td>99.99</td>\n",
       "      <td>08/15/19 15:11</td>\n",
       "      <td>492 Ridge St, Dallas, TX 75001</td>\n",
       "      <td>08</td>\n",
       "      <td>99.99</td>\n",
       "      <td>Dallas</td>\n",
       "    </tr>\n",
       "    <tr>\n",
       "      <th>2</th>\n",
       "      <td>236672</td>\n",
       "      <td>iPhone</td>\n",
       "      <td>1</td>\n",
       "      <td>700.00</td>\n",
       "      <td>08/06/19 14:40</td>\n",
       "      <td>149 7th St, Portland, OR 97035</td>\n",
       "      <td>08</td>\n",
       "      <td>700.00</td>\n",
       "      <td>Portland</td>\n",
       "    </tr>\n",
       "  </tbody>\n",
       "</table>\n",
       "</div>"
      ],
      "text/plain": [
       "  Order ID                     Product  Quantity Ordered  Price Each  \\\n",
       "0   236670            Wired Headphones                 2       11.99   \n",
       "1   236671  Bose SoundSport Headphones                 1       99.99   \n",
       "2   236672                      iPhone                 1      700.00   \n",
       "\n",
       "       Order Date                  Purchase Address Month   sales       city  \n",
       "0  08/31/19 22:21  359 Spruce St, Seattle, WA 98101    08   23.98    Seattle  \n",
       "1  08/15/19 15:11    492 Ridge St, Dallas, TX 75001    08   99.99     Dallas  \n",
       "2  08/06/19 14:40    149 7th St, Portland, OR 97035    08  700.00   Portland  "
      ]
     },
     "execution_count": 12,
     "metadata": {},
     "output_type": "execute_result"
    }
   ],
   "source": [
    "# which city has the highest number of sales\n",
    "# add a city column\n",
    "\n",
    "combined_df['city'] = combined_df['Purchase Address'].str.split(',')\n",
    "combined_df['city'] =  combined_df['city'].str.get(1)\n",
    "combined_df.head(3)"
   ]
  },
  {
   "cell_type": "code",
   "execution_count": 13,
   "id": "14e09f44",
   "metadata": {
    "execution": {
     "iopub.execute_input": "2023-03-06T08:23:03.290302Z",
     "iopub.status.busy": "2023-03-06T08:23:03.289765Z",
     "iopub.status.idle": "2023-03-06T08:23:03.397196Z",
     "shell.execute_reply": "2023-03-06T08:23:03.395836Z"
    },
    "papermill": {
     "duration": 0.12145,
     "end_time": "2023-03-06T08:23:03.400548",
     "exception": false,
     "start_time": "2023-03-06T08:23:03.279098",
     "status": "completed"
    },
    "tags": []
   },
   "outputs": [],
   "source": [
    "# historgram for which city has the best sales\n",
    "\n",
    "import matplotlib.pyplot as plt\n",
    "\n",
    "# city = range(1,13)\n",
    "# print(months)\n",
    "\n",
    "sales_sum = combined_df.groupby(['city']).sum()"
   ]
  },
  {
   "cell_type": "code",
   "execution_count": 14,
   "id": "91722d0b",
   "metadata": {
    "execution": {
     "iopub.execute_input": "2023-03-06T08:23:03.419526Z",
     "iopub.status.busy": "2023-03-06T08:23:03.419049Z",
     "iopub.status.idle": "2023-03-06T08:23:03.426229Z",
     "shell.execute_reply": "2023-03-06T08:23:03.424700Z"
    },
    "papermill": {
     "duration": 0.01978,
     "end_time": "2023-03-06T08:23:03.428776",
     "exception": false,
     "start_time": "2023-03-06T08:23:03.408996",
     "status": "completed"
    },
    "tags": []
   },
   "outputs": [],
   "source": [
    "sales_sum = sales_sum.reset_index()"
   ]
  },
  {
   "cell_type": "code",
   "execution_count": 15,
   "id": "1aa91cf5",
   "metadata": {
    "execution": {
     "iopub.execute_input": "2023-03-06T08:23:03.447993Z",
     "iopub.status.busy": "2023-03-06T08:23:03.447588Z",
     "iopub.status.idle": "2023-03-06T08:23:03.464519Z",
     "shell.execute_reply": "2023-03-06T08:23:03.462698Z"
    },
    "papermill": {
     "duration": 0.029957,
     "end_time": "2023-03-06T08:23:03.467577",
     "exception": false,
     "start_time": "2023-03-06T08:23:03.437620",
     "status": "completed"
    },
    "tags": []
   },
   "outputs": [
    {
     "data": {
      "text/html": [
       "<div>\n",
       "<style scoped>\n",
       "    .dataframe tbody tr th:only-of-type {\n",
       "        vertical-align: middle;\n",
       "    }\n",
       "\n",
       "    .dataframe tbody tr th {\n",
       "        vertical-align: top;\n",
       "    }\n",
       "\n",
       "    .dataframe thead th {\n",
       "        text-align: right;\n",
       "    }\n",
       "</style>\n",
       "<table border=\"1\" class=\"dataframe\">\n",
       "  <thead>\n",
       "    <tr style=\"text-align: right;\">\n",
       "      <th></th>\n",
       "      <th>city</th>\n",
       "      <th>Quantity Ordered</th>\n",
       "      <th>Price Each</th>\n",
       "      <th>sales</th>\n",
       "    </tr>\n",
       "  </thead>\n",
       "  <tbody>\n",
       "    <tr>\n",
       "      <th>0</th>\n",
       "      <td>Atlanta</td>\n",
       "      <td>16602</td>\n",
       "      <td>2779908.20</td>\n",
       "      <td>2795498.58</td>\n",
       "    </tr>\n",
       "    <tr>\n",
       "      <th>1</th>\n",
       "      <td>Austin</td>\n",
       "      <td>11153</td>\n",
       "      <td>1809873.61</td>\n",
       "      <td>1819581.75</td>\n",
       "    </tr>\n",
       "    <tr>\n",
       "      <th>2</th>\n",
       "      <td>Boston</td>\n",
       "      <td>22528</td>\n",
       "      <td>3637409.77</td>\n",
       "      <td>3661642.01</td>\n",
       "    </tr>\n",
       "    <tr>\n",
       "      <th>3</th>\n",
       "      <td>Dallas</td>\n",
       "      <td>16730</td>\n",
       "      <td>2752627.82</td>\n",
       "      <td>2767975.40</td>\n",
       "    </tr>\n",
       "    <tr>\n",
       "      <th>4</th>\n",
       "      <td>Los Angeles</td>\n",
       "      <td>33289</td>\n",
       "      <td>5421435.23</td>\n",
       "      <td>5452570.80</td>\n",
       "    </tr>\n",
       "    <tr>\n",
       "      <th>5</th>\n",
       "      <td>New York City</td>\n",
       "      <td>27932</td>\n",
       "      <td>4635370.83</td>\n",
       "      <td>4664317.43</td>\n",
       "    </tr>\n",
       "    <tr>\n",
       "      <th>6</th>\n",
       "      <td>Portland</td>\n",
       "      <td>14053</td>\n",
       "      <td>2307747.47</td>\n",
       "      <td>2320490.61</td>\n",
       "    </tr>\n",
       "    <tr>\n",
       "      <th>7</th>\n",
       "      <td>San Francisco</td>\n",
       "      <td>50239</td>\n",
       "      <td>8211461.74</td>\n",
       "      <td>8262203.91</td>\n",
       "    </tr>\n",
       "    <tr>\n",
       "      <th>8</th>\n",
       "      <td>Seattle</td>\n",
       "      <td>16553</td>\n",
       "      <td>2733296.01</td>\n",
       "      <td>2747755.48</td>\n",
       "    </tr>\n",
       "  </tbody>\n",
       "</table>\n",
       "</div>"
      ],
      "text/plain": [
       "             city  Quantity Ordered  Price Each       sales\n",
       "0         Atlanta             16602  2779908.20  2795498.58\n",
       "1          Austin             11153  1809873.61  1819581.75\n",
       "2          Boston             22528  3637409.77  3661642.01\n",
       "3          Dallas             16730  2752627.82  2767975.40\n",
       "4     Los Angeles             33289  5421435.23  5452570.80\n",
       "5   New York City             27932  4635370.83  4664317.43\n",
       "6        Portland             14053  2307747.47  2320490.61\n",
       "7   San Francisco             50239  8211461.74  8262203.91\n",
       "8         Seattle             16553  2733296.01  2747755.48"
      ]
     },
     "execution_count": 15,
     "metadata": {},
     "output_type": "execute_result"
    }
   ],
   "source": [
    "sales_sum"
   ]
  },
  {
   "cell_type": "code",
   "execution_count": 16,
   "id": "f9313aa4",
   "metadata": {
    "execution": {
     "iopub.execute_input": "2023-03-06T08:23:03.486993Z",
     "iopub.status.busy": "2023-03-06T08:23:03.486559Z",
     "iopub.status.idle": "2023-03-06T08:23:03.746208Z",
     "shell.execute_reply": "2023-03-06T08:23:03.745118Z"
    },
    "papermill": {
     "duration": 0.272358,
     "end_time": "2023-03-06T08:23:03.748688",
     "exception": false,
     "start_time": "2023-03-06T08:23:03.476330",
     "status": "completed"
    },
    "tags": []
   },
   "outputs": [
    {
     "data": {
      "image/png": "[encoded data removed]",
      "text/plain": [
       "<Figure size 640x480 with 1 Axes>"
      ]
     },
     "metadata": {},
     "output_type": "display_data"
    }
   ],
   "source": [
    "# creating bar chart for city and the sales for each city\n",
    "# keys = [city for city, df in all_data.groupby(['City'])]\n",
    "\n",
    "plt.bar(sales_sum['city'],sales_sum['sales'])\n",
    "plt.xticks(sales_sum['city'], rotation='vertical', size=8)\n",
    "plt.ylabel('Sales in USD ($)')\n",
    "plt.xlabel('Month number')\n",
    "plt.show()\n",
    "\n",
    "# import matplotlib.pyplot as plt\n",
    "\n",
    "# # keys = [city for city, df in all_data.groupby(['City'])]\n",
    "\n",
    "# plt.bar(sales_sum['city'],sales_sum['sales'])\n",
    "# plt.ylabel('Sales in USD ($)')\n",
    "# plt.xlabel('Month number')\n",
    "# plt.xticks(keys, rotation='vertical', size=8)\n",
    "# plt.show()"
   ]
  },
  {
   "cell_type": "code",
   "execution_count": 17,
   "id": "d52c627c",
   "metadata": {
    "execution": {
     "iopub.execute_input": "2023-03-06T08:23:03.770540Z",
     "iopub.status.busy": "2023-03-06T08:23:03.769796Z",
     "iopub.status.idle": "2023-03-06T08:23:22.801369Z",
     "shell.execute_reply": "2023-03-06T08:23:22.799937Z"
    },
    "papermill": {
     "duration": 19.046039,
     "end_time": "2023-03-06T08:23:22.804709",
     "exception": false,
     "start_time": "2023-03-06T08:23:03.758670",
     "status": "completed"
    },
    "tags": []
   },
   "outputs": [],
   "source": [
    "#Question 3: What time should we display advertisements to maximize likelihood of customer's buying product?\n",
    "\n",
    "combined_df['my_datetime_col'] = pd.to_datetime(combined_df['Order Date'])\n",
    "\n",
    "# extract date and time into separate columns\n",
    "combined_df['date'] = combined_df['my_datetime_col'].dt.date\n",
    "combined_df['time'] = combined_df['my_datetime_col'].dt.time"
   ]
  },
  {
   "cell_type": "code",
   "execution_count": 18,
   "id": "3c0db795",
   "metadata": {
    "execution": {
     "iopub.execute_input": "2023-03-06T08:23:22.826112Z",
     "iopub.status.busy": "2023-03-06T08:23:22.825648Z",
     "iopub.status.idle": "2023-03-06T08:23:22.850168Z",
     "shell.execute_reply": "2023-03-06T08:23:22.848655Z"
    },
    "papermill": {
     "duration": 0.039348,
     "end_time": "2023-03-06T08:23:22.854131",
     "exception": false,
     "start_time": "2023-03-06T08:23:22.814783",
     "status": "completed"
    },
    "tags": []
   },
   "outputs": [],
   "source": [
    "combined_df['hour'] = combined_df['my_datetime_col'].dt.hour\n",
    "# combined-df['minutes'] =  combined_df['my_datetime_col'].dt.minutes"
   ]
  },
  {
   "cell_type": "code",
   "execution_count": 19,
   "id": "3f13fb69",
   "metadata": {
    "execution": {
     "iopub.execute_input": "2023-03-06T08:23:22.874768Z",
     "iopub.status.busy": "2023-03-06T08:23:22.874300Z",
     "iopub.status.idle": "2023-03-06T08:23:23.306874Z",
     "shell.execute_reply": "2023-03-06T08:23:23.305001Z"
    },
    "papermill": {
     "duration": 0.446219,
     "end_time": "2023-03-06T08:23:23.309629",
     "exception": false,
     "start_time": "2023-03-06T08:23:22.863410",
     "status": "completed"
    },
    "tags": []
   },
   "outputs": [
    {
     "data": {
      "image/png": "[encoded data removed]",
      "text/plain": [
       "<Figure size 640x480 with 1 Axes>"
      ]
     },
     "metadata": {},
     "output_type": "display_data"
    }
   ],
   "source": [
    "##What time should we display advertisemens to maximize the likelihood of customer’s buying product?\n",
    "\n",
    "hour_df = combined_df.groupby(['hour']).count()\n",
    "hour_df = hour_df.reset_index()\n",
    "\n",
    "# create a line plot\n",
    "plt.plot(hour_df['hour'], hour_df['sales'])\n",
    "\n",
    "# add labels and title\n",
    "plt.xlabel('Time in hours')\n",
    "plt.ylabel('Frequency of sales')\n",
    "plt.title('Line Plot')\n",
    "\n",
    "# display the plot\n",
    "plt.show()"
   ]
  },
  {
   "cell_type": "markdown",
   "id": "490ec55e",
   "metadata": {
    "papermill": {
     "duration": 0.009791,
     "end_time": "2023-03-06T08:23:23.330270",
     "exception": false,
     "start_time": "2023-03-06T08:23:23.320479",
     "status": "completed"
    },
    "tags": []
   },
   "source": [
    "---\n",
    "\n",
    "\n",
    "\n",
    "\n",
    "*Have questions or comments? Visit the [course discussion forum](https://www.kaggle.com/learn/intro-to-machine-learning/discussion) to chat with other learners.*"
   ]
  },
  {
   "cell_type": "code",
   "execution_count": null,
   "id": "7b4a3664",
   "metadata": {
    "papermill": {
     "duration": 0.009491,
     "end_time": "2023-03-06T08:23:23.349710",
     "exception": false,
     "start_time": "2023-03-06T08:23:23.340219",
     "status": "completed"
    },
    "tags": []
   },
   "outputs": [],
   "source": []
  }
 ],
 "metadata": {
  "kernelspec": {
   "display_name": "Python 3",
   "language": "python",
   "name": "python3"
  },
  "language_info": {
   "codemirror_mode": {
    "name": "ipython",
    "version": 3
   },
   "file_extension": ".py",
   "mimetype": "text/x-python",
   "name": "python",
   "nbconvert_exporter": "python",
   "pygments_lexer": "ipython3",
   "version": "3.7.12"
  },
  "papermill": {
   "default_parameters": {},
   "duration": 36.237041,
   "end_time": "2023-03-06T08:23:24.186616",
   "environment_variables": {},
   "exception": null,
   "input_path": "__notebook__.ipynb",
   "output_path": "__notebook__.ipynb",
   "parameters": {},
   "start_time": "2023-03-06T08:22:47.949575",
   "version": "2.4.0"
  }
 },
 "nbformat": 4,
 "nbformat_minor": 5
}
